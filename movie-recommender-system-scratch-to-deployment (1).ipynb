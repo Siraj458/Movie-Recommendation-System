{
 "cells": [
  {
   "cell_type": "markdown",
   "id": "7e847d3e",
   "metadata": {
    "papermill": {
     "duration": 0.012782,
     "end_time": "2023-01-23T13:01:59.834673",
     "exception": false,
     "start_time": "2023-01-23T13:01:59.821891",
     "status": "completed"
    },
    "tags": []
   },
   "source": [
    "## Welcome to the coding section for the \"Movie Recommender System (From scratch to deployment)\". \n",
    "\n",
    "#### For those who have not read the project-flow for this project I encourage you to go through this [link](https://medium.com/@dozzynorm/movie-recommender-system-from-scratch-to-deployment-e808b5daeb94) and have a initial read. \n",
    "#### This project is beginner friendly as I will be referencing lot of things and explaining how the code works.\n",
    "#### SO, without delay lets dive into this."
   ]
  },
  {
   "cell_type": "markdown",
   "id": "507d6d03",
   "metadata": {
    "papermill": {
     "duration": 0.01171,
     "end_time": "2023-01-23T13:01:59.856725",
     "exception": false,
     "start_time": "2023-01-23T13:01:59.845015",
     "status": "completed"
    },
    "tags": []
   },
   "source": [
    "__Now lets start with fetching the data set. First go to top left corner of you screen and click the arrow button, right to the save version. Open data list and you will find the millions-of-movies dataset in you input. That is the data we are going to work with__ \\\n",
    "\\\n",
    "__After opening the notebook you will find code block already in your Notebook. In this code block you will find the imports that are important for all the ML project with dataframe, there is also a code block which will give you the *path* of our dataset, we just have to run this shell.__\n"
   ]
  },
  {
   "cell_type": "code",
   "execution_count": 1,
   "id": "bf39f9dd",
   "metadata": {
    "_cell_guid": "b1076dfc-b9ad-4769-8c92-a6c4dae69d19",
    "_uuid": "8f2839f25d086af736a60e9eeb907d3b93b6e0e5",
    "execution": {
     "iopub.execute_input": "2023-01-23T13:01:59.879508Z",
     "iopub.status.busy": "2023-01-23T13:01:59.878741Z",
     "iopub.status.idle": "2023-01-23T13:01:59.896554Z",
     "shell.execute_reply": "2023-01-23T13:01:59.895448Z"
    },
    "papermill": {
     "duration": 0.032117,
     "end_time": "2023-01-23T13:01:59.898827",
     "exception": false,
     "start_time": "2023-01-23T13:01:59.866710",
     "status": "completed"
    },
    "tags": []
   },
   "outputs": [
    {
     "name": "stdout",
     "output_type": "stream",
     "text": [
      "/kaggle/input/millions-of-movies/movies.csv\n"
     ]
    }
   ],
   "source": [
    "# This Python 3 environment comes with many helpful analytics libraries installed\n",
    "# It is defined by the kaggle/python Docker image: https://github.com/kaggle/docker-python\n",
    "# For example, here's several helpful packages to load\n",
    "# Input data files are available in the read-only \"../input/\" directory\n",
    "# For example, running this (by clicking run or pressing Shift+Enter) will list all files under the input directory\n",
    "import os\n",
    "for dirname, _, filenames in os.walk('/kaggle/input'):\n",
    "    for filename in filenames:\n",
    "        print(os.path.join(dirname, filename))\n",
    "\n",
    "# You can write up to 20GB to the current directory (/kaggle/working/) that gets preserved as output when you create a version using \"Save & Run All\" \n",
    "# You can also write temporary files to /kaggle/temp/, but they won't be saved outside of the current session"
   ]
  },
  {
   "cell_type": "markdown",
   "id": "bfaf6bc4",
   "metadata": {
    "papermill": {
     "duration": 0.010372,
     "end_time": "2023-01-23T13:01:59.920181",
     "exception": false,
     "start_time": "2023-01-23T13:01:59.909809",
     "status": "completed"
    },
    "tags": []
   },
   "source": [
    "# <p style=\"background-color:#C71A27;font-family:verdana;color:white;text-align:center;letter-spacing:0.5px;font-size:100%;padding: 10px\"> Fetching Dataset </p>"
   ]
  },
  {
   "cell_type": "code",
   "execution_count": 2,
   "id": "96cd7b5e",
   "metadata": {
    "execution": {
     "iopub.execute_input": "2023-01-23T13:01:59.942896Z",
     "iopub.status.busy": "2023-01-23T13:01:59.942443Z",
     "iopub.status.idle": "2023-01-23T13:02:00.907347Z",
     "shell.execute_reply": "2023-01-23T13:02:00.906089Z"
    },
    "papermill": {
     "duration": 0.97964,
     "end_time": "2023-01-23T13:02:00.910309",
     "exception": false,
     "start_time": "2023-01-23T13:01:59.930669",
     "status": "completed"
    },
    "tags": []
   },
   "outputs": [],
   "source": [
    "# Important Imports\n",
    "import sklearn as sk\n",
    "import numpy as np # linear algebra\n",
    "import pandas as pd # data processing, CSV file I/O (e.g. pd.read_csv)"
   ]
  },
  {
   "cell_type": "code",
   "execution_count": 3,
   "id": "f250598d",
   "metadata": {
    "execution": {
     "iopub.execute_input": "2023-01-23T13:02:00.934544Z",
     "iopub.status.busy": "2023-01-23T13:02:00.934080Z",
     "iopub.status.idle": "2023-01-23T13:02:11.204481Z",
     "shell.execute_reply": "2023-01-23T13:02:11.203765Z"
    },
    "papermill": {
     "duration": 10.285289,
     "end_time": "2023-01-23T13:02:11.207142",
     "exception": false,
     "start_time": "2023-01-23T13:02:00.921853",
     "status": "completed"
    },
    "tags": []
   },
   "outputs": [
    {
     "data": {
      "text/html": [
       "<div>\n",
       "<style scoped>\n",
       "    .dataframe tbody tr th:only-of-type {\n",
       "        vertical-align: middle;\n",
       "    }\n",
       "\n",
       "    .dataframe tbody tr th {\n",
       "        vertical-align: top;\n",
       "    }\n",
       "\n",
       "    .dataframe thead th {\n",
       "        text-align: right;\n",
       "    }\n",
       "</style>\n",
       "<table border=\"1\" class=\"dataframe\">\n",
       "  <thead>\n",
       "    <tr style=\"text-align: right;\">\n",
       "      <th></th>\n",
       "      <th>id</th>\n",
       "      <th>title</th>\n",
       "      <th>genres</th>\n",
       "      <th>original_language</th>\n",
       "      <th>overview</th>\n",
       "      <th>popularity</th>\n",
       "      <th>production_companies</th>\n",
       "      <th>release_date</th>\n",
       "      <th>budget</th>\n",
       "      <th>revenue</th>\n",
       "      <th>runtime</th>\n",
       "      <th>status</th>\n",
       "      <th>tagline</th>\n",
       "      <th>vote_average</th>\n",
       "      <th>vote_count</th>\n",
       "      <th>credits</th>\n",
       "      <th>keywords</th>\n",
       "      <th>poster_path</th>\n",
       "      <th>backdrop_path</th>\n",
       "      <th>recommendations</th>\n",
       "    </tr>\n",
       "  </thead>\n",
       "  <tbody>\n",
       "    <tr>\n",
       "      <th>0</th>\n",
       "      <td>315162</td>\n",
       "      <td>Puss in Boots: The Last Wish</td>\n",
       "      <td>Animation-Action-Adventure-Comedy-Family-Fantasy</td>\n",
       "      <td>en</td>\n",
       "      <td>Puss in Boots discovers that his passion for a...</td>\n",
       "      <td>10011.230</td>\n",
       "      <td>Universal Pictures-DreamWorks Animation</td>\n",
       "      <td>2022-12-07</td>\n",
       "      <td>90000000.0</td>\n",
       "      <td>297504470.0</td>\n",
       "      <td>103.0</td>\n",
       "      <td>Released</td>\n",
       "      <td>Say hola to his little friends.</td>\n",
       "      <td>8.611</td>\n",
       "      <td>2369.0</td>\n",
       "      <td>Antonio Banderas-Salma Hayek-Harvey Guillén-Wa...</td>\n",
       "      <td>fairy tale-talking dog-spin off-aftercreditsst...</td>\n",
       "      <td>/kuf6dutpsT0vSVehic3EZIqkOBt.jpg</td>\n",
       "      <td>/r9PkFnRUIthgBp2JZZzD380MWZy.jpg</td>\n",
       "      <td>830784-826173-417859-76600-877269-5334-46632-6...</td>\n",
       "    </tr>\n",
       "    <tr>\n",
       "      <th>1</th>\n",
       "      <td>536554</td>\n",
       "      <td>M3GAN</td>\n",
       "      <td>Science Fiction-Horror-Comedy</td>\n",
       "      <td>en</td>\n",
       "      <td>A brilliant toy company roboticist uses artifi...</td>\n",
       "      <td>7352.073</td>\n",
       "      <td>Universal Pictures-Blumhouse Productions-Atomi...</td>\n",
       "      <td>2022-12-28</td>\n",
       "      <td>12000000.0</td>\n",
       "      <td>101000000.0</td>\n",
       "      <td>102.0</td>\n",
       "      <td>Released</td>\n",
       "      <td>Friendship has evolved.</td>\n",
       "      <td>7.127</td>\n",
       "      <td>402.0</td>\n",
       "      <td>Allison Williams-Violet McGraw-Jenna Davis-Ami...</td>\n",
       "      <td>evil doll-aunt niece relationship-orphan-car a...</td>\n",
       "      <td>/7CNCv9uhqdwK7Fv4bR4nmDysnd9.jpg</td>\n",
       "      <td>/5kAGbi9MFAobQTVfK4kWPnIfnP0.jpg</td>\n",
       "      <td>615777-674324-661374-48209-593643-696157-67671...</td>\n",
       "    </tr>\n",
       "  </tbody>\n",
       "</table>\n",
       "</div>"
      ],
      "text/plain": [
       "       id                         title  \\\n",
       "0  315162  Puss in Boots: The Last Wish   \n",
       "1  536554                         M3GAN   \n",
       "\n",
       "                                             genres original_language  \\\n",
       "0  Animation-Action-Adventure-Comedy-Family-Fantasy                en   \n",
       "1                     Science Fiction-Horror-Comedy                en   \n",
       "\n",
       "                                            overview  popularity  \\\n",
       "0  Puss in Boots discovers that his passion for a...   10011.230   \n",
       "1  A brilliant toy company roboticist uses artifi...    7352.073   \n",
       "\n",
       "                                production_companies release_date      budget  \\\n",
       "0            Universal Pictures-DreamWorks Animation   2022-12-07  90000000.0   \n",
       "1  Universal Pictures-Blumhouse Productions-Atomi...   2022-12-28  12000000.0   \n",
       "\n",
       "       revenue  runtime    status                          tagline  \\\n",
       "0  297504470.0    103.0  Released  Say hola to his little friends.   \n",
       "1  101000000.0    102.0  Released          Friendship has evolved.   \n",
       "\n",
       "   vote_average  vote_count  \\\n",
       "0         8.611      2369.0   \n",
       "1         7.127       402.0   \n",
       "\n",
       "                                             credits  \\\n",
       "0  Antonio Banderas-Salma Hayek-Harvey Guillén-Wa...   \n",
       "1  Allison Williams-Violet McGraw-Jenna Davis-Ami...   \n",
       "\n",
       "                                            keywords  \\\n",
       "0  fairy tale-talking dog-spin off-aftercreditsst...   \n",
       "1  evil doll-aunt niece relationship-orphan-car a...   \n",
       "\n",
       "                        poster_path                     backdrop_path  \\\n",
       "0  /kuf6dutpsT0vSVehic3EZIqkOBt.jpg  /r9PkFnRUIthgBp2JZZzD380MWZy.jpg   \n",
       "1  /7CNCv9uhqdwK7Fv4bR4nmDysnd9.jpg  /5kAGbi9MFAobQTVfK4kWPnIfnP0.jpg   \n",
       "\n",
       "                                     recommendations  \n",
       "0  830784-826173-417859-76600-877269-5334-46632-6...  \n",
       "1  615777-674324-661374-48209-593643-696157-67671...  "
      ]
     },
     "execution_count": 3,
     "metadata": {},
     "output_type": "execute_result"
    }
   ],
   "source": [
    "data = pd.read_csv(\"/kaggle/input/millions-of-movies/movies.csv\")\n",
    "\n",
    "# checking if data is loaded or not in variable(data)\n",
    "data.head(2)"
   ]
  },
  {
   "cell_type": "markdown",
   "id": "528e235c",
   "metadata": {
    "papermill": {
     "duration": 0.010706,
     "end_time": "2023-01-23T13:02:11.229478",
     "exception": false,
     "start_time": "2023-01-23T13:02:11.218772",
     "status": "completed"
    },
    "tags": []
   },
   "source": [
    "# <p style=\"background-color:#C71A27;font-family:verdana;color:white;text-align:center;letter-spacing:0.5px;font-size:100%;padding: 10px\"> Pre-processing data </p>"
   ]
  },
  {
   "cell_type": "markdown",
   "id": "05d09278",
   "metadata": {
    "papermill": {
     "duration": 0.010552,
     "end_time": "2023-01-23T13:02:11.251014",
     "exception": false,
     "start_time": "2023-01-23T13:02:11.240462",
     "status": "completed"
    },
    "tags": []
   },
   "source": [
    "# <p style=\"background-color:#C71A27;font-family:verdana;color:white;text-align:center;letter-spacing:0.5px;font-size:100%;padding: 5px\"> Analyzing data </p>"
   ]
  },
  {
   "cell_type": "markdown",
   "id": "dc07662b",
   "metadata": {
    "papermill": {
     "duration": 0.010714,
     "end_time": "2023-01-23T13:02:11.272836",
     "exception": false,
     "start_time": "2023-01-23T13:02:11.262122",
     "status": "completed"
    },
    "tags": []
   },
   "source": [
    "__The first step of pre-processing is to analyze data. How to analyze data?__ \n",
    "1. find how many movies are their in our dataset\n",
    "2. find how many features of movie are given\n",
    "3. find about data-types and names of features of movies\n",
    "4. check if there are missing value in dataset\n",
    "5. check if there are duplicate movies in dataset\n",
    "\n",
    "There are some of the question to ask during analysis of data."
   ]
  },
  {
   "cell_type": "code",
   "execution_count": 4,
   "id": "27a37939",
   "metadata": {
    "execution": {
     "iopub.execute_input": "2023-01-23T13:02:11.298132Z",
     "iopub.status.busy": "2023-01-23T13:02:11.297392Z",
     "iopub.status.idle": "2023-01-23T13:02:11.302840Z",
     "shell.execute_reply": "2023-01-23T13:02:11.301379Z"
    },
    "papermill": {
     "duration": 0.021003,
     "end_time": "2023-01-23T13:02:11.305307",
     "exception": false,
     "start_time": "2023-01-23T13:02:11.284304",
     "status": "completed"
    },
    "tags": []
   },
   "outputs": [
    {
     "name": "stdout",
     "output_type": "stream",
     "text": [
      "(728651, 20)\n"
     ]
    }
   ],
   "source": [
    "#check the shape of data\n",
    "print(data.shape)"
   ]
  },
  {
   "cell_type": "markdown",
   "id": "528f43b1",
   "metadata": {
    "papermill": {
     "duration": 0.010662,
     "end_time": "2023-01-23T13:02:11.327212",
     "exception": false,
     "start_time": "2023-01-23T13:02:11.316550",
     "status": "completed"
    },
    "tags": []
   },
   "source": [
    "__Observation__ \\\n",
    "We have about __728K movies__ in the dataset and about __20 features__ of each movies."
   ]
  },
  {
   "cell_type": "code",
   "execution_count": 5,
   "id": "d8eb2faf",
   "metadata": {
    "execution": {
     "iopub.execute_input": "2023-01-23T13:02:11.350875Z",
     "iopub.status.busy": "2023-01-23T13:02:11.350462Z",
     "iopub.status.idle": "2023-01-23T13:02:11.827709Z",
     "shell.execute_reply": "2023-01-23T13:02:11.826595Z"
    },
    "papermill": {
     "duration": 0.491797,
     "end_time": "2023-01-23T13:02:11.829934",
     "exception": false,
     "start_time": "2023-01-23T13:02:11.338137",
     "status": "completed"
    },
    "tags": []
   },
   "outputs": [
    {
     "name": "stdout",
     "output_type": "stream",
     "text": [
      "<class 'pandas.core.frame.DataFrame'>\n",
      "RangeIndex: 728651 entries, 0 to 728650\n",
      "Data columns (total 20 columns):\n",
      " #   Column                Non-Null Count   Dtype  \n",
      "---  ------                --------------   -----  \n",
      " 0   id                    728651 non-null  int64  \n",
      " 1   title                 728647 non-null  object \n",
      " 2   genres                514726 non-null  object \n",
      " 3   original_language     728651 non-null  object \n",
      " 4   overview              608581 non-null  object \n",
      " 5   popularity            728651 non-null  float64\n",
      " 6   production_companies  338007 non-null  object \n",
      " 7   release_date          674787 non-null  object \n",
      " 8   budget                728651 non-null  float64\n",
      " 9   revenue               728651 non-null  float64\n",
      " 10  runtime               692976 non-null  float64\n",
      " 11  status                728651 non-null  object \n",
      " 12  tagline               108684 non-null  object \n",
      " 13  vote_average          728651 non-null  float64\n",
      " 14  vote_count            728651 non-null  float64\n",
      " 15  credits               501826 non-null  object \n",
      " 16  keywords              211190 non-null  object \n",
      " 17  poster_path           539360 non-null  object \n",
      " 18  backdrop_path         222900 non-null  object \n",
      " 19  recommendations       34951 non-null   object \n",
      "dtypes: float64(6), int64(1), object(13)\n",
      "memory usage: 111.2+ MB\n"
     ]
    }
   ],
   "source": [
    "# check columns of data and its data-types present in dataframe\n",
    "data.info()"
   ]
  },
  {
   "cell_type": "code",
   "execution_count": 6,
   "id": "85e15401",
   "metadata": {
    "execution": {
     "iopub.execute_input": "2023-01-23T13:02:11.855763Z",
     "iopub.status.busy": "2023-01-23T13:02:11.855246Z",
     "iopub.status.idle": "2023-01-23T13:02:12.304583Z",
     "shell.execute_reply": "2023-01-23T13:02:12.303375Z"
    },
    "papermill": {
     "duration": 0.465172,
     "end_time": "2023-01-23T13:02:12.306921",
     "exception": false,
     "start_time": "2023-01-23T13:02:11.841749",
     "status": "completed"
    },
    "tags": []
   },
   "outputs": [
    {
     "data": {
      "text/plain": [
       "id                           0\n",
       "title                        4\n",
       "genres                  213925\n",
       "original_language            0\n",
       "overview                120070\n",
       "popularity                   0\n",
       "production_companies    390644\n",
       "release_date             53864\n",
       "budget                       0\n",
       "revenue                      0\n",
       "runtime                  35675\n",
       "status                       0\n",
       "tagline                 619967\n",
       "vote_average                 0\n",
       "vote_count                   0\n",
       "credits                 226825\n",
       "keywords                517461\n",
       "poster_path             189291\n",
       "backdrop_path           505751\n",
       "recommendations         693700\n",
       "dtype: int64"
      ]
     },
     "execution_count": 6,
     "metadata": {},
     "output_type": "execute_result"
    }
   ],
   "source": [
    "# check null value in dataset\n",
    "data.isnull().sum()"
   ]
  },
  {
   "cell_type": "code",
   "execution_count": 7,
   "id": "14a9a62a",
   "metadata": {
    "execution": {
     "iopub.execute_input": "2023-01-23T13:02:12.331680Z",
     "iopub.status.busy": "2023-01-23T13:02:12.331203Z",
     "iopub.status.idle": "2023-01-23T13:02:14.660718Z",
     "shell.execute_reply": "2023-01-23T13:02:14.659213Z"
    },
    "papermill": {
     "duration": 2.344407,
     "end_time": "2023-01-23T13:02:14.662842",
     "exception": false,
     "start_time": "2023-01-23T13:02:12.318435",
     "status": "completed"
    },
    "tags": []
   },
   "outputs": [
    {
     "data": {
      "text/plain": [
       "86"
      ]
     },
     "execution_count": 7,
     "metadata": {},
     "output_type": "execute_result"
    }
   ],
   "source": [
    "# check for duplicate values\n",
    "data.duplicated().sum()"
   ]
  },
  {
   "cell_type": "markdown",
   "id": "342cd678",
   "metadata": {
    "papermill": {
     "duration": 0.010968,
     "end_time": "2023-01-23T13:02:14.685476",
     "exception": false,
     "start_time": "2023-01-23T13:02:14.674508",
     "status": "completed"
    },
    "tags": []
   },
   "source": [
    "__Obsevation__ \n",
    "1. We can see that there are lots of __missing values__ in our data set.\n",
    "2. We can also see that there are __99 duplicate__ movies."
   ]
  },
  {
   "cell_type": "markdown",
   "id": "938de0ef",
   "metadata": {
    "papermill": {
     "duration": 0.010697,
     "end_time": "2023-01-23T13:02:14.707780",
     "exception": false,
     "start_time": "2023-01-23T13:02:14.697083",
     "status": "completed"
    },
    "tags": []
   },
   "source": [
    "***\n",
    "# <p style=\"background-color:#C71A27;font-family:verdana;color:white;text-align:center;letter-spacing:0.5px;font-size:100%;padding: 5px\"> Cleaning data </p>\n",
    "\n",
    "#### __first step of pre-processing is to clean the data. How to clean data?__ \n",
    "__1. First thing I want to do is drop unnecessary column that is not needed in our recommendation system:__ \\\n",
    "So, our recommendation system follow content-based model, that means it will find movies acording to the movies you watched. To do that we have to know features of movie we watched, there are 20 features in dataset and all of them are not important. Important featurs are those features which defines the movie best. In our case important features are __MovieId, Title, Genre, Overview, Credit, Keyword, Vote_count__.\n",
    "These are the base features for our model. \\\n",
    "__2. droping duplicates in whole dataset & droping duplicates with same titles and release date:__ \\\n",
    "Droping duplicates will help our model to learn more easily and in later period duplicate movies will not cause harm. Droping duplicates with title and release date will help us to delete entries of same movie. \\\n",
    "__3. droping all the movies whoes vote_count < 350:__ \\\n",
    "By implementing this strategy, we will effectively reduce the number of movies in our dataset by half. This simplification of our model not only enhances its performance but also ensures a more efficient transfer of data to other platforms, thanks to the smaller size of the dataset. \\\n",
    "__4. deleting movies with no Genre & Overview:__ \\\n",
    "Movies with no Genre and Overview are of no use for us as they are most important features to have for our prediction model. \\\n",
    "__5. removing \"-\" sign from contents of Genre, Keywords & Credits__ \n",
    "\n",
    "***"
   ]
  },
  {
   "cell_type": "code",
   "execution_count": 8,
   "id": "46c91a3c",
   "metadata": {
    "execution": {
     "iopub.execute_input": "2023-01-23T13:02:14.732620Z",
     "iopub.status.busy": "2023-01-23T13:02:14.732167Z",
     "iopub.status.idle": "2023-01-23T13:02:14.812592Z",
     "shell.execute_reply": "2023-01-23T13:02:14.811451Z"
    },
    "papermill": {
     "duration": 0.095679,
     "end_time": "2023-01-23T13:02:14.814701",
     "exception": false,
     "start_time": "2023-01-23T13:02:14.719022",
     "status": "completed"
    },
    "tags": []
   },
   "outputs": [],
   "source": [
    "# dropping unnecesary title \n",
    "df = data.drop([\"production_companies\", \"popularity\", \"budget\", \"revenue\", \"status\", \"recommendations\", \"runtime\", \"vote_average\", \"backdrop_path\", \"tagline\"], axis=1)"
   ]
  },
  {
   "cell_type": "code",
   "execution_count": 9,
   "id": "302974e4",
   "metadata": {
    "execution": {
     "iopub.execute_input": "2023-01-23T13:02:14.839765Z",
     "iopub.status.busy": "2023-01-23T13:02:14.839325Z",
     "iopub.status.idle": "2023-01-23T13:02:16.318359Z",
     "shell.execute_reply": "2023-01-23T13:02:16.317233Z"
    },
    "papermill": {
     "duration": 1.494822,
     "end_time": "2023-01-23T13:02:16.321220",
     "exception": false,
     "start_time": "2023-01-23T13:02:14.826398",
     "status": "completed"
    },
    "tags": []
   },
   "outputs": [],
   "source": [
    "# droping duplicate values\n",
    "df.drop_duplicates(inplace=True)"
   ]
  },
  {
   "cell_type": "code",
   "execution_count": 10,
   "id": "c575fb61",
   "metadata": {
    "execution": {
     "iopub.execute_input": "2023-01-23T13:02:16.347668Z",
     "iopub.status.busy": "2023-01-23T13:02:16.347192Z",
     "iopub.status.idle": "2023-01-23T13:02:16.451540Z",
     "shell.execute_reply": "2023-01-23T13:02:16.450603Z"
    },
    "papermill": {
     "duration": 0.120004,
     "end_time": "2023-01-23T13:02:16.453379",
     "exception": false,
     "start_time": "2023-01-23T13:02:16.333375",
     "status": "completed"
    },
    "tags": []
   },
   "outputs": [
    {
     "data": {
      "text/plain": [
       "86912"
      ]
     },
     "execution_count": 10,
     "metadata": {},
     "output_type": "execute_result"
    }
   ],
   "source": [
    "# checking duplicates in title\n",
    "df.title.duplicated().sum()"
   ]
  },
  {
   "cell_type": "code",
   "execution_count": 11,
   "id": "565e8663",
   "metadata": {
    "execution": {
     "iopub.execute_input": "2023-01-23T13:02:16.481007Z",
     "iopub.status.busy": "2023-01-23T13:02:16.479761Z",
     "iopub.status.idle": "2023-01-23T13:02:16.868215Z",
     "shell.execute_reply": "2023-01-23T13:02:16.867275Z"
    },
    "papermill": {
     "duration": 0.405224,
     "end_time": "2023-01-23T13:02:16.870340",
     "exception": false,
     "start_time": "2023-01-23T13:02:16.465116",
     "status": "completed"
    },
    "tags": []
   },
   "outputs": [
    {
     "data": {
      "text/plain": [
       "2339"
      ]
     },
     "execution_count": 11,
     "metadata": {},
     "output_type": "execute_result"
    }
   ],
   "source": [
    "# check if duplicates titles have same release date \n",
    "df[[\"title\", \"release_date\"]].duplicated().sum()"
   ]
  },
  {
   "cell_type": "code",
   "execution_count": 12,
   "id": "8d3a0e37",
   "metadata": {
    "execution": {
     "iopub.execute_input": "2023-01-23T13:02:16.896998Z",
     "iopub.status.busy": "2023-01-23T13:02:16.895589Z",
     "iopub.status.idle": "2023-01-23T13:02:17.342770Z",
     "shell.execute_reply": "2023-01-23T13:02:17.341443Z"
    },
    "papermill": {
     "duration": 0.463387,
     "end_time": "2023-01-23T13:02:17.345641",
     "exception": false,
     "start_time": "2023-01-23T13:02:16.882254",
     "status": "completed"
    },
    "tags": []
   },
   "outputs": [],
   "source": [
    "# get rid of duplicates with same release datae\n",
    "df.drop_duplicates(subset=[\"title\",\"release_date\"], inplace=True)"
   ]
  },
  {
   "cell_type": "code",
   "execution_count": 13,
   "id": "5aba77ee",
   "metadata": {
    "execution": {
     "iopub.execute_input": "2023-01-23T13:02:17.370946Z",
     "iopub.status.busy": "2023-01-23T13:02:17.369630Z",
     "iopub.status.idle": "2023-01-23T13:02:17.411410Z",
     "shell.execute_reply": "2023-01-23T13:02:17.409842Z"
    },
    "papermill": {
     "duration": 0.057071,
     "end_time": "2023-01-23T13:02:17.414371",
     "exception": false,
     "start_time": "2023-01-23T13:02:17.357300",
     "status": "completed"
    },
    "tags": []
   },
   "outputs": [],
   "source": [
    "# get rid of vote_count lower than 350 and reseting index\n",
    "df = df[df.vote_count >= 350].reset_index()"
   ]
  },
  {
   "cell_type": "code",
   "execution_count": 14,
   "id": "3f6d677b",
   "metadata": {
    "execution": {
     "iopub.execute_input": "2023-01-23T13:02:17.439556Z",
     "iopub.status.busy": "2023-01-23T13:02:17.438978Z",
     "iopub.status.idle": "2023-01-23T13:02:17.455930Z",
     "shell.execute_reply": "2023-01-23T13:02:17.454490Z"
    },
    "papermill": {
     "duration": 0.031666,
     "end_time": "2023-01-23T13:02:17.457779",
     "exception": false,
     "start_time": "2023-01-23T13:02:17.426113",
     "status": "completed"
    },
    "tags": []
   },
   "outputs": [
    {
     "data": {
      "text/plain": [
       "index                  0\n",
       "id                     0\n",
       "title                  0\n",
       "genres                 0\n",
       "original_language      0\n",
       "overview               1\n",
       "release_date           0\n",
       "vote_count             0\n",
       "credits                8\n",
       "keywords             237\n",
       "poster_path            0\n",
       "dtype: int64"
      ]
     },
     "execution_count": 14,
     "metadata": {},
     "output_type": "execute_result"
    }
   ],
   "source": [
    "df.isnull().sum()"
   ]
  },
  {
   "cell_type": "code",
   "execution_count": 15,
   "id": "4fd2cf12",
   "metadata": {
    "execution": {
     "iopub.execute_input": "2023-01-23T13:02:17.483312Z",
     "iopub.status.busy": "2023-01-23T13:02:17.482190Z",
     "iopub.status.idle": "2023-01-23T13:02:17.493742Z",
     "shell.execute_reply": "2023-01-23T13:02:17.492969Z"
    },
    "papermill": {
     "duration": 0.026324,
     "end_time": "2023-01-23T13:02:17.495669",
     "exception": false,
     "start_time": "2023-01-23T13:02:17.469345",
     "status": "completed"
    },
    "tags": []
   },
   "outputs": [],
   "source": [
    "# replacing all the null value from genres adn overview with \"nothing\"\n",
    "df.fillna(\"\", inplace = True)"
   ]
  },
  {
   "cell_type": "code",
   "execution_count": 16,
   "id": "3a7f15ee",
   "metadata": {
    "execution": {
     "iopub.execute_input": "2023-01-23T13:02:17.520357Z",
     "iopub.status.busy": "2023-01-23T13:02:17.519848Z",
     "iopub.status.idle": "2023-01-23T13:02:17.533502Z",
     "shell.execute_reply": "2023-01-23T13:02:17.531826Z"
    },
    "papermill": {
     "duration": 0.028199,
     "end_time": "2023-01-23T13:02:17.535540",
     "exception": false,
     "start_time": "2023-01-23T13:02:17.507341",
     "status": "completed"
    },
    "tags": []
   },
   "outputs": [],
   "source": [
    "# delete movies with no genres and overview\n",
    "index = df[(df.genres == \"\") & (df.overview == \"\")].index\n",
    "df.drop(index, inplace=True)"
   ]
  },
  {
   "cell_type": "code",
   "execution_count": 17,
   "id": "f181e8cc",
   "metadata": {
    "execution": {
     "iopub.execute_input": "2023-01-23T13:02:17.560612Z",
     "iopub.status.busy": "2023-01-23T13:02:17.560144Z",
     "iopub.status.idle": "2023-01-23T13:02:17.612799Z",
     "shell.execute_reply": "2023-01-23T13:02:17.611509Z"
    },
    "papermill": {
     "duration": 0.068375,
     "end_time": "2023-01-23T13:02:17.615354",
     "exception": false,
     "start_time": "2023-01-23T13:02:17.546979",
     "status": "completed"
    },
    "tags": []
   },
   "outputs": [],
   "source": [
    "# replacing genres, credits and keywords - with \" \"\n",
    "df.genres = df.genres.apply(lambda x: \" \".join(x.split(\"-\")))\n",
    "df.keywords = df.keywords.apply(lambda x: \" \".join(x.split(\"-\")))\n",
    "df.credits = df.credits.apply(lambda x: \" \".join(x.replace(\" \", \"\").split(\"-\")[:5]))"
   ]
  },
  {
   "cell_type": "markdown",
   "id": "4934338b",
   "metadata": {
    "papermill": {
     "duration": 0.010892,
     "end_time": "2023-01-23T13:02:17.638301",
     "exception": false,
     "start_time": "2023-01-23T13:02:17.627409",
     "status": "completed"
    },
    "tags": []
   },
   "source": [
    "To predict similar movies using natural language processing techniques, we will utilize text-based data as input for our machine learning model. To facilitate this process, we will create a new column called \"Tags\" that encompasses all the crucial text features such as __Overview, Genres, Keywords, and Original Language__. This will enable us to make accurate predictions of similar movies."
   ]
  },
  {
   "cell_type": "code",
   "execution_count": 18,
   "id": "69060e0d",
   "metadata": {
    "execution": {
     "iopub.execute_input": "2023-01-23T13:02:17.663193Z",
     "iopub.status.busy": "2023-01-23T13:02:17.662711Z",
     "iopub.status.idle": "2023-01-23T13:02:17.684686Z",
     "shell.execute_reply": "2023-01-23T13:02:17.683725Z"
    },
    "papermill": {
     "duration": 0.038167,
     "end_time": "2023-01-23T13:02:17.687567",
     "exception": false,
     "start_time": "2023-01-23T13:02:17.649400",
     "status": "completed"
    },
    "tags": []
   },
   "outputs": [],
   "source": [
    "# making tags for prediction\n",
    "df[\"tags\"] =df.overview + \" \"+ df.genres + \" \"  +df.credits + \" \" +df.keywords + \" \" + df.original_language"
   ]
  },
  {
   "cell_type": "code",
   "execution_count": 19,
   "id": "9dbcd9c8",
   "metadata": {
    "execution": {
     "iopub.execute_input": "2023-01-23T13:02:17.713001Z",
     "iopub.status.busy": "2023-01-23T13:02:17.712434Z",
     "iopub.status.idle": "2023-01-23T13:02:17.721591Z",
     "shell.execute_reply": "2023-01-23T13:02:17.720609Z"
    },
    "papermill": {
     "duration": 0.024163,
     "end_time": "2023-01-23T13:02:17.723654",
     "exception": false,
     "start_time": "2023-01-23T13:02:17.699491",
     "status": "completed"
    },
    "tags": []
   },
   "outputs": [],
   "source": [
    "# making new framework with important features\n",
    "new_df = df[[\"id\", \"title\", \"tags\", 'poster_path']]"
   ]
  },
  {
   "cell_type": "code",
   "execution_count": 20,
   "id": "a5cef94f",
   "metadata": {
    "execution": {
     "iopub.execute_input": "2023-01-23T13:02:17.748808Z",
     "iopub.status.busy": "2023-01-23T13:02:17.748301Z",
     "iopub.status.idle": "2023-01-23T13:02:17.769483Z",
     "shell.execute_reply": "2023-01-23T13:02:17.767110Z"
    },
    "papermill": {
     "duration": 0.037234,
     "end_time": "2023-01-23T13:02:17.772562",
     "exception": false,
     "start_time": "2023-01-23T13:02:17.735328",
     "status": "completed"
    },
    "tags": []
   },
   "outputs": [
    {
     "name": "stderr",
     "output_type": "stream",
     "text": [
      "/opt/conda/lib/python3.7/site-packages/pandas/core/generic.py:5516: SettingWithCopyWarning: \n",
      "A value is trying to be set on a copy of a slice from a DataFrame.\n",
      "Try using .loc[row_indexer,col_indexer] = value instead\n",
      "\n",
      "See the caveats in the documentation: https://pandas.pydata.org/pandas-docs/stable/user_guide/indexing.html#returning-a-view-versus-a-copy\n",
      "  self[name] = value\n"
     ]
    }
   ],
   "source": [
    "# making all the content of tags in lower case letter for better processing\n",
    "new_df.tags = new_df.tags.apply(lambda x:x.lower())"
   ]
  },
  {
   "cell_type": "code",
   "execution_count": 21,
   "id": "ed19a9d4",
   "metadata": {
    "execution": {
     "iopub.execute_input": "2023-01-23T13:02:17.800003Z",
     "iopub.status.busy": "2023-01-23T13:02:17.798749Z",
     "iopub.status.idle": "2023-01-23T13:02:17.807662Z",
     "shell.execute_reply": "2023-01-23T13:02:17.806455Z"
    },
    "papermill": {
     "duration": 0.02424,
     "end_time": "2023-01-23T13:02:17.809467",
     "exception": false,
     "start_time": "2023-01-23T13:02:17.785227",
     "status": "completed"
    },
    "tags": []
   },
   "outputs": [
    {
     "data": {
      "text/plain": [
       "'puss in boots discovers that his passion for adventure has taken its toll: he has burned through eight of his nine lives leaving him with only one life left. puss sets out on an epic journey to find the mythical last wish and restore his nine lives. animation action adventure comedy family fantasy antoniobanderas salmahayek harveyguillén wagnermoura florencepugh fairy tale talking dog spin off aftercreditsstinger talking cat fear of death en'"
      ]
     },
     "execution_count": 21,
     "metadata": {},
     "output_type": "execute_result"
    }
   ],
   "source": [
    "new_df.tags[0]"
   ]
  },
  {
   "cell_type": "code",
   "execution_count": 22,
   "id": "d3c6e87e",
   "metadata": {
    "execution": {
     "iopub.execute_input": "2023-01-23T13:02:17.836053Z",
     "iopub.status.busy": "2023-01-23T13:02:17.835520Z",
     "iopub.status.idle": "2023-01-23T13:02:17.848684Z",
     "shell.execute_reply": "2023-01-23T13:02:17.847359Z"
    },
    "papermill": {
     "duration": 0.029062,
     "end_time": "2023-01-23T13:02:17.850947",
     "exception": false,
     "start_time": "2023-01-23T13:02:17.821885",
     "status": "completed"
    },
    "tags": []
   },
   "outputs": [
    {
     "data": {
      "text/html": [
       "<div>\n",
       "<style scoped>\n",
       "    .dataframe tbody tr th:only-of-type {\n",
       "        vertical-align: middle;\n",
       "    }\n",
       "\n",
       "    .dataframe tbody tr th {\n",
       "        vertical-align: top;\n",
       "    }\n",
       "\n",
       "    .dataframe thead th {\n",
       "        text-align: right;\n",
       "    }\n",
       "</style>\n",
       "<table border=\"1\" class=\"dataframe\">\n",
       "  <thead>\n",
       "    <tr style=\"text-align: right;\">\n",
       "      <th></th>\n",
       "      <th>id</th>\n",
       "      <th>title</th>\n",
       "      <th>tags</th>\n",
       "      <th>poster_path</th>\n",
       "    </tr>\n",
       "  </thead>\n",
       "  <tbody>\n",
       "    <tr>\n",
       "      <th>0</th>\n",
       "      <td>315162</td>\n",
       "      <td>Puss in Boots: The Last Wish</td>\n",
       "      <td>puss in boots discovers that his passion for a...</td>\n",
       "      <td>/kuf6dutpsT0vSVehic3EZIqkOBt.jpg</td>\n",
       "    </tr>\n",
       "  </tbody>\n",
       "</table>\n",
       "</div>"
      ],
      "text/plain": [
       "       id                         title  \\\n",
       "0  315162  Puss in Boots: The Last Wish   \n",
       "\n",
       "                                                tags  \\\n",
       "0  puss in boots discovers that his passion for a...   \n",
       "\n",
       "                        poster_path  \n",
       "0  /kuf6dutpsT0vSVehic3EZIqkOBt.jpg  "
      ]
     },
     "execution_count": 22,
     "metadata": {},
     "output_type": "execute_result"
    }
   ],
   "source": [
    "new_df.head(1)"
   ]
  },
  {
   "cell_type": "markdown",
   "id": "4b4830af",
   "metadata": {
    "papermill": {
     "duration": 0.011931,
     "end_time": "2023-01-23T13:02:17.875724",
     "exception": false,
     "start_time": "2023-01-23T13:02:17.863793",
     "status": "completed"
    },
    "tags": []
   },
   "source": [
    "# <p style=\"background-color:#C71A27;font-family:verdana;color:white;text-align:center;letter-spacing:0.5px;font-size:100%;padding: 10px\"> Vectorizer </p>"
   ]
  },
  {
   "cell_type": "markdown",
   "id": "75f71d0b",
   "metadata": {
    "papermill": {
     "duration": 0.011533,
     "end_time": "2023-01-23T13:02:17.899248",
     "exception": false,
     "start_time": "2023-01-23T13:02:17.887715",
     "status": "completed"
    },
    "tags": []
   },
   "source": [
    "***\n",
    "# <p style=\"background-color:#C71A27;font-family:verdana;color:white;text-align:center;letter-spacing:0.5px;font-size:100%;padding: 5px\"> Stemming </p>\n",
    "\n",
    "[nltk.stem.porter doc link](https://www.nltk.org/api/nltk.stem.porter.html)\n",
    "<div class=\"alert alert-info\" style=\"font-size:14px; font-family:verdana; line-height: 1.7em;\">\n",
    "    📌 &nbsp;  Stemming is the process of reducing words to their base or root form. This is done by removing suffixes, prefixes, or inflections from words to obtain their stem (for example word actors turn into actor). \n",
    "The goal of stemming is to reduce words to their core form, so that words with the same root can be recognized as the same word, regardless of their grammatical form. This can be useful in text-based natural language processing tasks, such as text classification, information retrieval, and machine translation. \n",
    "Basically, It is used to neutralize grammer of tags.\n",
    "</div>\n",
    "\n",
    "For stemming we use __nltk__ library and use __PorterStemmer__ for stemming.\n",
    "***"
   ]
  },
  {
   "cell_type": "code",
   "execution_count": 23,
   "id": "75ec4a8b",
   "metadata": {
    "execution": {
     "iopub.execute_input": "2023-01-23T13:02:17.926895Z",
     "iopub.status.busy": "2023-01-23T13:02:17.926394Z",
     "iopub.status.idle": "2023-01-23T13:02:18.518110Z",
     "shell.execute_reply": "2023-01-23T13:02:18.516860Z"
    },
    "papermill": {
     "duration": 0.609471,
     "end_time": "2023-01-23T13:02:18.520853",
     "exception": false,
     "start_time": "2023-01-23T13:02:17.911382",
     "status": "completed"
    },
    "tags": []
   },
   "outputs": [],
   "source": [
    "#import nltk library and porter module\n",
    "import nltk\n",
    "from nltk.stem.porter import PorterStemmer\n",
    "ps = PorterStemmer()"
   ]
  },
  {
   "cell_type": "code",
   "execution_count": 24,
   "id": "4ad223ba",
   "metadata": {
    "execution": {
     "iopub.execute_input": "2023-01-23T13:02:18.546722Z",
     "iopub.status.busy": "2023-01-23T13:02:18.546274Z",
     "iopub.status.idle": "2023-01-23T13:02:18.554355Z",
     "shell.execute_reply": "2023-01-23T13:02:18.553139Z"
    },
    "papermill": {
     "duration": 0.023315,
     "end_time": "2023-01-23T13:02:18.556387",
     "exception": false,
     "start_time": "2023-01-23T13:02:18.533072",
     "status": "completed"
    },
    "tags": []
   },
   "outputs": [],
   "source": [
    "# stem function to take text and give output\n",
    "def stem(text):\n",
    "    y = []\n",
    "    for i in text.split():\n",
    "        y.append(ps.stem(i))\n",
    "    \n",
    "    return \" \".join(y)    "
   ]
  },
  {
   "cell_type": "code",
   "execution_count": 25,
   "id": "8e2f4d3a",
   "metadata": {
    "execution": {
     "iopub.execute_input": "2023-01-23T13:02:18.582276Z",
     "iopub.status.busy": "2023-01-23T13:02:18.581840Z",
     "iopub.status.idle": "2023-01-23T13:02:29.722147Z",
     "shell.execute_reply": "2023-01-23T13:02:29.720784Z"
    },
    "papermill": {
     "duration": 11.156139,
     "end_time": "2023-01-23T13:02:29.724672",
     "exception": false,
     "start_time": "2023-01-23T13:02:18.568533",
     "status": "completed"
    },
    "tags": []
   },
   "outputs": [
    {
     "name": "stderr",
     "output_type": "stream",
     "text": [
      "/opt/conda/lib/python3.7/site-packages/ipykernel_launcher.py:2: SettingWithCopyWarning: \n",
      "A value is trying to be set on a copy of a slice from a DataFrame.\n",
      "Try using .loc[row_indexer,col_indexer] = value instead\n",
      "\n",
      "See the caveats in the documentation: https://pandas.pydata.org/pandas-docs/stable/user_guide/indexing.html#returning-a-view-versus-a-copy\n",
      "  \n"
     ]
    }
   ],
   "source": [
    "# applying stem function in tags\n",
    "new_df[\"tags\"] = new_df[\"tags\"].apply(stem)"
   ]
  },
  {
   "cell_type": "markdown",
   "id": "ba884499",
   "metadata": {
    "papermill": {
     "duration": 0.011206,
     "end_time": "2023-01-23T13:02:29.748057",
     "exception": false,
     "start_time": "2023-01-23T13:02:29.736851",
     "status": "completed"
    },
    "tags": []
   },
   "source": [
    "***\n",
    "# <p style=\"background-color:#C71A27;font-family:verdana;color:white;text-align:center;letter-spacing:0.5px;font-size:100%;padding: 5px\"> Text Vectorization </p>\n",
    "\n",
    "[CountVecotrizer docs link](https://scikit-learn.org/stable/modules/generated/sklearn.feature_extraction.text.CountVectorizer.html)\n",
    "<div class=\"alert alert-info\" style=\"font-size:14px; font-family:verdana; line-height: 1.7em;\">\n",
    "    📌 &nbsp; Text vectorization is the process of converting text data into numerical vectors so that they can be used as input for machine learning models.  \n",
    "</div>\n",
    "\n",
    "We will use CountVectorizer for this task which will convert our text data into number and it also helps to eliminate stop words (like and, the etc). It will also be used to make \"__bag-of-word__\" with 5000 most repeated words which is also start of our __Model Building__.\n",
    "\n",
    "***"
   ]
  },
  {
   "cell_type": "code",
   "execution_count": 26,
   "id": "ab6d05b1",
   "metadata": {
    "execution": {
     "iopub.execute_input": "2023-01-23T13:02:29.773322Z",
     "iopub.status.busy": "2023-01-23T13:02:29.772834Z",
     "iopub.status.idle": "2023-01-23T13:02:29.778295Z",
     "shell.execute_reply": "2023-01-23T13:02:29.777249Z"
    },
    "papermill": {
     "duration": 0.020632,
     "end_time": "2023-01-23T13:02:29.780160",
     "exception": false,
     "start_time": "2023-01-23T13:02:29.759528",
     "status": "completed"
    },
    "tags": []
   },
   "outputs": [],
   "source": [
    "# importing countvectorizer\n",
    "from sklearn.feature_extraction.text import CountVectorizer\n",
    "# setting for 5000 most repeated words, and exclude stop words\n",
    "cv = CountVectorizer(stop_words=\"english\",max_features=5000)"
   ]
  },
  {
   "cell_type": "code",
   "execution_count": 27,
   "id": "1b4334ff",
   "metadata": {
    "execution": {
     "iopub.execute_input": "2023-01-23T13:02:29.805954Z",
     "iopub.status.busy": "2023-01-23T13:02:29.805285Z",
     "iopub.status.idle": "2023-01-23T13:02:30.328234Z",
     "shell.execute_reply": "2023-01-23T13:02:30.327071Z"
    },
    "papermill": {
     "duration": 0.538765,
     "end_time": "2023-01-23T13:02:30.330852",
     "exception": false,
     "start_time": "2023-01-23T13:02:29.792087",
     "status": "completed"
    },
    "tags": []
   },
   "outputs": [],
   "source": [
    "# fiting tags in count vector\n",
    "vectors = cv.fit_transform(new_df[\"tags\"]).toarray() #change it into array to use"
   ]
  },
  {
   "cell_type": "code",
   "execution_count": 28,
   "id": "ff7f2047",
   "metadata": {
    "execution": {
     "iopub.execute_input": "2023-01-23T13:02:30.356967Z",
     "iopub.status.busy": "2023-01-23T13:02:30.355746Z",
     "iopub.status.idle": "2023-01-23T13:02:30.368293Z",
     "shell.execute_reply": "2023-01-23T13:02:30.366642Z"
    },
    "papermill": {
     "duration": 0.02746,
     "end_time": "2023-01-23T13:02:30.370398",
     "exception": false,
     "start_time": "2023-01-23T13:02:30.342938",
     "status": "completed"
    },
    "tags": []
   },
   "outputs": [
    {
     "name": "stderr",
     "output_type": "stream",
     "text": [
      "/opt/conda/lib/python3.7/site-packages/sklearn/utils/deprecation.py:87: FutureWarning: Function get_feature_names is deprecated; get_feature_names is deprecated in 1.0 and will be removed in 1.2. Please use get_feature_names_out instead.\n",
      "  warnings.warn(msg, category=FutureWarning)\n"
     ]
    },
    {
     "data": {
      "text/plain": [
       "['activist', 'actor', 'actress', 'actual', 'ad']"
      ]
     },
     "execution_count": 28,
     "metadata": {},
     "output_type": "execute_result"
    }
   ],
   "source": [
    "cv.get_feature_names()[80:85]"
   ]
  },
  {
   "cell_type": "markdown",
   "id": "bd34f29d",
   "metadata": {
    "papermill": {
     "duration": 0.011511,
     "end_time": "2023-01-23T13:02:30.393888",
     "exception": false,
     "start_time": "2023-01-23T13:02:30.382377",
     "status": "completed"
    },
    "tags": []
   },
   "source": [
    "***\n",
    "# <p style=\"background-color:#C71A27;font-family:verdana;color:white;text-align:center;letter-spacing:0.5px;font-size:100%;padding: 10px\"> Model Building </p>\n",
    "\n",
    "[Cosine_similarity link](https://scikit-learn.org/stable/modules/generated/sklearn.metrics.pairwise.cosine_similarity.html)\n",
    "\n",
    "<div class=\"alert alert-info\" style=\"font-size:14px; font-family:verdana; line-height: 1.7em;\">\n",
    "    📌 &nbsp; Cosine Similarity is a process of creating a machine learning model that utilizes the cosine similarity metric to determine the similarity between two pieces of text. \\\n",
    "This step involves calculating the cosine similarity between all pairs of vectors in the dataset. The similarity value will range between -1 to 1, 1 being exactly similar and -1 being completely dissimilar.\n",
    "</div>\n",
    "***"
   ]
  },
  {
   "cell_type": "code",
   "execution_count": 29,
   "id": "f6797651",
   "metadata": {
    "execution": {
     "iopub.execute_input": "2023-01-23T13:02:30.420304Z",
     "iopub.status.busy": "2023-01-23T13:02:30.419858Z",
     "iopub.status.idle": "2023-01-23T13:02:33.815534Z",
     "shell.execute_reply": "2023-01-23T13:02:33.814613Z"
    },
    "papermill": {
     "duration": 3.412129,
     "end_time": "2023-01-23T13:02:33.818181",
     "exception": false,
     "start_time": "2023-01-23T13:02:30.406052",
     "status": "completed"
    },
    "tags": []
   },
   "outputs": [],
   "source": [
    "# Similarity vector with cosine \n",
    "from sklearn.metrics.pairwise import cosine_similarity\n",
    "# calculating similarity of each movie with all movies\n",
    "similarity = cosine_similarity(vectors)"
   ]
  },
  {
   "cell_type": "code",
   "execution_count": 30,
   "id": "f26aac09",
   "metadata": {
    "execution": {
     "iopub.execute_input": "2023-01-23T13:02:33.849504Z",
     "iopub.status.busy": "2023-01-23T13:02:33.848182Z",
     "iopub.status.idle": "2023-01-23T13:02:33.855810Z",
     "shell.execute_reply": "2023-01-23T13:02:33.854708Z"
    },
    "papermill": {
     "duration": 0.025287,
     "end_time": "2023-01-23T13:02:33.859261",
     "exception": false,
     "start_time": "2023-01-23T13:02:33.833974",
     "status": "completed"
    },
    "tags": []
   },
   "outputs": [
    {
     "data": {
      "text/plain": [
       "(7525, 7525)"
      ]
     },
     "execution_count": 30,
     "metadata": {},
     "output_type": "execute_result"
    }
   ],
   "source": [
    "# similarity of each movie with all the movies\n",
    "similarity.shape"
   ]
  },
  {
   "cell_type": "markdown",
   "id": "495f7e9c",
   "metadata": {
    "papermill": {
     "duration": 0.011938,
     "end_time": "2023-01-23T13:02:33.884231",
     "exception": false,
     "start_time": "2023-01-23T13:02:33.872293",
     "status": "completed"
    },
    "tags": []
   },
   "source": [
    "***\n",
    "# <p style=\"background-color:#C71A27;font-family:verdana;color:white;text-align:center;letter-spacing:0.5px;font-size:100%;padding: 10px\"> Testing Model </p>\n",
    "\n",
    "To test our model we will make a function which will take name of movie and recommend 5 movies, similar to that.\n",
    "***"
   ]
  },
  {
   "cell_type": "code",
   "execution_count": 31,
   "id": "db4e3762",
   "metadata": {
    "execution": {
     "iopub.execute_input": "2023-01-23T13:02:33.912730Z",
     "iopub.status.busy": "2023-01-23T13:02:33.911557Z",
     "iopub.status.idle": "2023-01-23T13:02:33.918000Z",
     "shell.execute_reply": "2023-01-23T13:02:33.917100Z"
    },
    "papermill": {
     "duration": 0.023415,
     "end_time": "2023-01-23T13:02:33.920070",
     "exception": false,
     "start_time": "2023-01-23T13:02:33.896655",
     "status": "completed"
    },
    "tags": []
   },
   "outputs": [],
   "source": [
    "# making function to find movie and give similar movies as return\n",
    "def recommend(movies):\n",
    "    movie_index = new_df[new_df.title == movies].index[0]\n",
    "    distances = similarity[movie_index]\n",
    "    movies_list = sorted(list(enumerate(distances)), reverse=True, key= lambda x:x[1])[1:6]\n",
    "    \n",
    "    for i in movies_list:\n",
    "        print(new_df.iloc[i[0]].title)\n",
    "\n",
    "    "
   ]
  },
  {
   "cell_type": "code",
   "execution_count": 32,
   "id": "f347ce51",
   "metadata": {
    "execution": {
     "iopub.execute_input": "2023-01-23T13:02:33.948001Z",
     "iopub.status.busy": "2023-01-23T13:02:33.946795Z",
     "iopub.status.idle": "2023-01-23T13:02:33.960297Z",
     "shell.execute_reply": "2023-01-23T13:02:33.958950Z"
    },
    "papermill": {
     "duration": 0.029161,
     "end_time": "2023-01-23T13:02:33.962192",
     "exception": false,
     "start_time": "2023-01-23T13:02:33.933031",
     "status": "completed"
    },
    "tags": []
   },
   "outputs": [
    {
     "name": "stdout",
     "output_type": "stream",
     "text": [
      "The Dark Knight\n",
      "Batman: Mask of the Phantasm\n",
      "Batman & Robin\n",
      "Batman Returns\n",
      "Dick Tracy\n"
     ]
    }
   ],
   "source": [
    "# checking similar movies test 1\n",
    "recommend(\"Batman\")"
   ]
  },
  {
   "cell_type": "code",
   "execution_count": 33,
   "id": "465b920b",
   "metadata": {
    "execution": {
     "iopub.execute_input": "2023-01-23T13:02:33.988505Z",
     "iopub.status.busy": "2023-01-23T13:02:33.988072Z",
     "iopub.status.idle": "2023-01-23T13:02:34.000271Z",
     "shell.execute_reply": "2023-01-23T13:02:33.999311Z"
    },
    "papermill": {
     "duration": 0.028486,
     "end_time": "2023-01-23T13:02:34.003049",
     "exception": false,
     "start_time": "2023-01-23T13:02:33.974563",
     "status": "completed"
    },
    "tags": []
   },
   "outputs": [
    {
     "name": "stdout",
     "output_type": "stream",
     "text": [
      "Zack Snyder's Justice League\n",
      "X-Men: Apocalypse\n",
      "Justice League\n",
      "The Wolverine\n",
      "Justice League vs. Teen Titans\n"
     ]
    }
   ],
   "source": [
    "# test 2\n",
    "recommend(\"Black Adam\")"
   ]
  },
  {
   "cell_type": "markdown",
   "id": "c81bc851",
   "metadata": {
    "papermill": {
     "duration": 0.011744,
     "end_time": "2023-01-23T13:02:34.027436",
     "exception": false,
     "start_time": "2023-01-23T13:02:34.015692",
     "status": "completed"
    },
    "tags": []
   },
   "source": [
    "__Observation__ \\\n",
    "the function is returning similar 5 movies which means our Model building is Sucessfull"
   ]
  },
  {
   "cell_type": "markdown",
   "id": "0dfff548",
   "metadata": {
    "papermill": {
     "duration": 0.011666,
     "end_time": "2023-01-23T13:02:34.051116",
     "exception": false,
     "start_time": "2023-01-23T13:02:34.039450",
     "status": "completed"
    },
    "tags": []
   },
   "source": [
    "***\n",
    "# <p style=\"background-color:#C71A27;font-family:verdana;color:white;text-align:center;letter-spacing:0.5px;font-size:100%;padding: 10px\"> Deployment </p>\n",
    "\n",
    "[Pickle Library Link](https://docs.python.org/3/library/pickle.html)\n",
    "\n",
    "<div class=\"alert alert-info\" style=\"font-size:14px; font-family:verdana; line-height: 1.7em;\">\n",
    "    📌 &nbsp; Pickle is a Python library that allows you to serialize and deserialize Python objects, such as lists, dictionaries, and custom classes, to and from bytes, so that they can be saved to a file or sent over a network.\n",
    "The library provides two main functions: pickle.dump() and pickle.load(). The pickle.dump() function serializes an object and writes it to a file-like object, while pickle.load() deserializes an object from a file-like object.\n",
    "</div>\n"
   ]
  },
  {
   "cell_type": "code",
   "execution_count": 34,
   "id": "a6c573a0",
   "metadata": {
    "execution": {
     "iopub.execute_input": "2023-01-23T13:02:34.077772Z",
     "iopub.status.busy": "2023-01-23T13:02:34.077011Z",
     "iopub.status.idle": "2023-01-23T13:02:34.081311Z",
     "shell.execute_reply": "2023-01-23T13:02:34.080607Z"
    },
    "papermill": {
     "duration": 0.020002,
     "end_time": "2023-01-23T13:02:34.083067",
     "exception": false,
     "start_time": "2023-01-23T13:02:34.063065",
     "status": "completed"
    },
    "tags": []
   },
   "outputs": [],
   "source": [
    "# import Pickle\n",
    "import pickle "
   ]
  },
  {
   "cell_type": "code",
   "execution_count": 35,
   "id": "82358083",
   "metadata": {
    "execution": {
     "iopub.execute_input": "2023-01-23T13:02:34.109480Z",
     "iopub.status.busy": "2023-01-23T13:02:34.108789Z",
     "iopub.status.idle": "2023-01-23T13:02:34.123031Z",
     "shell.execute_reply": "2023-01-23T13:02:34.122169Z"
    },
    "papermill": {
     "duration": 0.029936,
     "end_time": "2023-01-23T13:02:34.125451",
     "exception": false,
     "start_time": "2023-01-23T13:02:34.095515",
     "status": "completed"
    },
    "tags": []
   },
   "outputs": [],
   "source": [
    "# making portable movie pickle file to transport \n",
    "pickle.dump(new_df, open(\"movies.pkl\", \"wb\"))"
   ]
  },
  {
   "cell_type": "code",
   "execution_count": 36,
   "id": "99ec21f7",
   "metadata": {
    "execution": {
     "iopub.execute_input": "2023-01-23T13:02:34.151593Z",
     "iopub.status.busy": "2023-01-23T13:02:34.150951Z",
     "iopub.status.idle": "2023-01-23T13:02:34.571510Z",
     "shell.execute_reply": "2023-01-23T13:02:34.569776Z"
    },
    "papermill": {
     "duration": 0.436975,
     "end_time": "2023-01-23T13:02:34.574799",
     "exception": false,
     "start_time": "2023-01-23T13:02:34.137824",
     "status": "completed"
    },
    "tags": []
   },
   "outputs": [],
   "source": [
    "# making portable similarity file to transport\n",
    "pickle.dump(similarity, open(\"similarity.pkl\", \"wb\"))"
   ]
  },
  {
   "cell_type": "markdown",
   "id": "8de3d0a0",
   "metadata": {
    "papermill": {
     "duration": 0.01304,
     "end_time": "2023-01-23T13:02:34.600760",
     "exception": false,
     "start_time": "2023-01-23T13:02:34.587720",
     "status": "completed"
    },
    "tags": []
   },
   "source": [
    "First download the file movies.pkl and similarity.pkl (which is big you can make it small by reducing the number of movies).\n",
    "\n",
    "To download go to top right corner arrow and go to output, go inside /kaggle/working and download.\n",
    "\n",
    "### Now we will deploy this model in Steamlit\n",
    "the bellow code is from app.py file which will deploy you model in streamlit, all you have to do is understand the code and deploy it. The code is nothing new it is every thing we have done already."
   ]
  },
  {
   "cell_type": "code",
   "execution_count": 37,
   "id": "75f7123b",
   "metadata": {
    "execution": {
     "iopub.execute_input": "2023-01-23T13:02:34.628690Z",
     "iopub.status.busy": "2023-01-23T13:02:34.628210Z",
     "iopub.status.idle": "2023-01-23T13:02:34.638743Z",
     "shell.execute_reply": "2023-01-23T13:02:34.636766Z"
    },
    "papermill": {
     "duration": 0.028573,
     "end_time": "2023-01-23T13:02:34.642466",
     "exception": false,
     "start_time": "2023-01-23T13:02:34.613893",
     "status": "completed"
    },
    "tags": []
   },
   "outputs": [
    {
     "data": {
      "text/plain": [
       "'\\n# first import streamlit and pickle \\nimport streamlit as st\\nimport pickle\\n\\n# extract the new_df dataframe from movies.pkl\\nmovies_list = pickle.load(open(\"movies.pkl\", \"rb\"))\\n# extract the titles of movies\\nmovies_list_title = movies_list[\"title\"].values\\n\\n# extract the similarity which contain our cosine similarity values\\nsimilarity = pickle.load(open(\"similarity.pkl\", \"rb\"))\\n\\n\\n# make a recommend function which will take movie title and return 5 similar movies with their posters\\ndef recommend(movie):\\n    movie_index = movies_list[movies_list[\"title\"] == movie].index[0]\\n    distances = similarity[movie_index]\\n    sorted_movie_list = sorted(list(enumerate(distances)), reverse=True,\\n                               key=lambda x:x[1])[1:6]\\n\\n    recommended_movies = []\\n    recommended_posters = []\\n    for i in sorted_movie_list:\\n        poster_path = movies_list[\"poster_path\"][i[0]]\\n        recommended_movies.append(movies_list.iloc[i[0]].title)\\n        recommended_posters.append(\"https://image.tmdb.org/t/p/original\"+poster_path)\\n\\n    return recommended_movies,  recommended_posters\\n\\n\\n\\n# Create title for your stream lit page\\nst.title(\"Project Movie Recommender System\")\\n\\n# Create a input box for movies name \\nselected_movie_name = st.selectbox(\\n    \"What is the movie name?\",\\n    movies_list_title\\n)\\n\\n# create a recommend button with function of displaying recommended movies and movie posters\\nif st.button(\"Recommend\"):\\n    recommendation, movie_posters = recommend(selected_movie_name)\\n\\n    col1, col2, col3, col4, col5 = st.columns(5)\\n\\n    with col1:\\n        st.write(recommendation[0])\\n        st.image(movie_posters[0])\\n    with col2:\\n        st.write(recommendation[1])\\n        st.image(movie_posters[1])\\n    with col3:\\n        st.write(recommendation[2])\\n        st.image(movie_posters[2])\\n    with col4:\\n        st.write(recommendation[3])\\n        st.image(movie_posters[3])\\n    with col5:\\n        st.write(recommendation[4])\\n        st.image(movie_posters[4])\\n\\n'"
      ]
     },
     "execution_count": 37,
     "metadata": {},
     "output_type": "execute_result"
    }
   ],
   "source": [
    "'''\n",
    "# first import streamlit and pickle \n",
    "import streamlit as st\n",
    "import pickle\n",
    "\n",
    "# extract the new_df dataframe from movies.pkl\n",
    "movies_list = pickle.load(open(\"movies.pkl\", \"rb\"))\n",
    "# extract the titles of movies\n",
    "movies_list_title = movies_list[\"title\"].values\n",
    "\n",
    "# extract the similarity which contain our cosine similarity values\n",
    "similarity = pickle.load(open(\"similarity.pkl\", \"rb\"))\n",
    "\n",
    "\n",
    "# make a recommend function which will take movie title and return 5 similar movies with their posters\n",
    "def recommend(movie):\n",
    "    movie_index = movies_list[movies_list[\"title\"] == movie].index[0]\n",
    "    distances = similarity[movie_index]\n",
    "    sorted_movie_list = sorted(list(enumerate(distances)), reverse=True,\n",
    "                               key=lambda x:x[1])[1:6]\n",
    "\n",
    "    recommended_movies = []\n",
    "    recommended_posters = []\n",
    "    for i in sorted_movie_list:\n",
    "        poster_path = movies_list[\"poster_path\"][i[0]]\n",
    "        recommended_movies.append(movies_list.iloc[i[0]].title)\n",
    "        recommended_posters.append(\"https://image.tmdb.org/t/p/original\"+poster_path)\n",
    "\n",
    "    return recommended_movies,  recommended_posters\n",
    "\n",
    "\n",
    "\n",
    "# Create title for your stream lit page\n",
    "st.title(\"Project Movie Recommender System\")\n",
    "\n",
    "# Create a input box for movies name \n",
    "selected_movie_name = st.selectbox(\n",
    "    \"What is the movie name?\",\n",
    "    movies_list_title\n",
    ")\n",
    "\n",
    "# create a recommend button with function of displaying recommended movies and movie posters\n",
    "if st.button(\"Recommend\"):\n",
    "    recommendation, movie_posters = recommend(selected_movie_name)\n",
    "\n",
    "    col1, col2, col3, col4, col5 = st.columns(5)\n",
    "\n",
    "    with col1:\n",
    "        st.write(recommendation[0])\n",
    "        st.image(movie_posters[0])\n",
    "    with col2:\n",
    "        st.write(recommendation[1])\n",
    "        st.image(movie_posters[1])\n",
    "    with col3:\n",
    "        st.write(recommendation[2])\n",
    "        st.image(movie_posters[2])\n",
    "    with col4:\n",
    "        st.write(recommendation[3])\n",
    "        st.image(movie_posters[3])\n",
    "    with col5:\n",
    "        st.write(recommendation[4])\n",
    "        st.image(movie_posters[4])\n",
    "\n",
    "'''"
   ]
  },
  {
   "cell_type": "markdown",
   "id": "a93e9ed9",
   "metadata": {
    "papermill": {
     "duration": 0.013265,
     "end_time": "2023-01-23T13:02:34.669629",
     "exception": false,
     "start_time": "2023-01-23T13:02:34.656364",
     "status": "completed"
    },
    "tags": []
   },
   "source": [
    "After writing this whole code go to you terminal and write \n",
    "\n",
    "__PS E:\\Machine learning bootcamp\\Movies-Recomender-System> streamlit run app.py__\n",
    "\n",
    "This will open a local host browser which will show you the page that you made in app.py folder\n",
    "\n"
   ]
  },
  {
   "cell_type": "markdown",
   "id": "e764598a",
   "metadata": {
    "papermill": {
     "duration": 0.012018,
     "end_time": "2023-01-23T13:02:34.694832",
     "exception": false,
     "start_time": "2023-01-23T13:02:34.682814",
     "status": "completed"
    },
    "tags": []
   },
   "source": [
    "\n",
    "\n",
    "<div class=\"alert alert-info\" style=\"font-size:14px; font-family:verdana; line-height: 1.7em;\">\n",
    "    📌 &nbsp; Thank you for reading! and hope you can keep making projects you like!\n",
    "</div>"
   ]
  }
 ],
 "metadata": {
  "kernelspec": {
   "display_name": "Python 3",
   "language": "python",
   "name": "python3"
  },
  "language_info": {
   "codemirror_mode": {
    "name": "ipython",
    "version": 3
   },
   "file_extension": ".py",
   "mimetype": "text/x-python",
   "name": "python",
   "nbconvert_exporter": "python",
   "pygments_lexer": "ipython3",
   "version": "3.7.12"
  },
  "papermill": {
   "default_parameters": {},
   "duration": 43.375827,
   "end_time": "2023-01-23T13:02:35.730838",
   "environment_variables": {},
   "exception": null,
   "input_path": "__notebook__.ipynb",
   "output_path": "__notebook__.ipynb",
   "parameters": {},
   "start_time": "2023-01-23T13:01:52.355011",
   "version": "2.3.4"
  }
 },
 "nbformat": 4,
 "nbformat_minor": 5
}
